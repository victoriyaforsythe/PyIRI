{
 "cells": [
  {
   "cell_type": "markdown",
   "id": "fd35834d",
   "metadata": {},
   "source": [
    "# Daily IRI Parameters for given level of solar activity\n",
    "\n",
    "## In case you are interested in a single location (as opposed to the grid)\n",
    "## PyIRI can evaluate parameters at this location if it is passed as a 1-element\n",
    "## NumPy array. \n",
    "\n",
    "## 1. Import libraries:"
   ]
  },
  {
   "cell_type": "code",
   "execution_count": 4,
   "id": "c49c201f",
   "metadata": {},
   "outputs": [],
   "source": [
    "import numpy as np\n",
    "import PyIRI\n",
    "import PyIRI.main_library as ml\n",
    "import PyIRI.plotting as plot"
   ]
  },
  {
   "cell_type": "markdown",
   "id": "4fcd3bc8",
   "metadata": {},
   "source": [
    "## 2. Specify a year, a month, and a day:"
   ]
  },
  {
   "cell_type": "code",
   "execution_count": 5,
   "id": "e1a3082f",
   "metadata": {},
   "outputs": [],
   "source": [
    "year = 2020\n",
    "month = 4\n",
    "day = 1"
   ]
  },
  {
   "cell_type": "markdown",
   "id": "bba76a46",
   "metadata": {},
   "source": [
    "## 3. Specify solar flux index F10.7 in SFU:"
   ]
  },
  {
   "cell_type": "code",
   "execution_count": 6,
   "id": "a1cf847b",
   "metadata": {},
   "outputs": [],
   "source": [
    "f107 = 100"
   ]
  },
  {
   "cell_type": "markdown",
   "id": "866e43ec",
   "metadata": {},
   "source": [
    "## 4. Specify what coefficients to use for the peak of F2 layer:"
   ]
  },
  {
   "cell_type": "code",
   "execution_count": 7,
   "id": "79c4afff",
   "metadata": {},
   "outputs": [],
   "source": [
    "ccir_or_ursi = 0"
   ]
  },
  {
   "cell_type": "markdown",
   "id": "4e89338c",
   "metadata": {},
   "source": [
    "## 5. Create a horizontal grid with a single location of interest.\n",
    "## E.g. lon = 10 E, lat = 20 N. "
   ]
  },
  {
   "cell_type": "code",
   "execution_count": 8,
   "id": "9e194490",
   "metadata": {},
   "outputs": [],
   "source": [
    "alon = np.array([10.])\n",
    "alat = np.array([20.])"
   ]
  },
  {
   "cell_type": "markdown",
   "id": "1f721ea5",
   "metadata": {},
   "source": [
    "## 6. Create any temporal array expressed in decimal hours (regular or irregular).\n",
    "## In case you are interested in only one time frame, it also needs to be presented as\n",
    "## NumPy array with a single element. \n",
    "## For this example we are using regularly spaced time array:"
   ]
  },
  {
   "cell_type": "code",
   "execution_count": 9,
   "id": "fc069fee",
   "metadata": {},
   "outputs": [],
   "source": [
    "hr_res = 0.25\n",
    "ahr = np.arange(0, 24, hr_res)"
   ]
  },
  {
   "cell_type": "markdown",
   "id": "557f6277",
   "metadata": {},
   "source": [
    "## 12. Create height array. It can be regular or irregular.\n",
    "## Here is an example for regularly spaced array:"
   ]
  },
  {
   "cell_type": "code",
   "execution_count": 10,
   "id": "0f85967d",
   "metadata": {},
   "outputs": [],
   "source": [
    "alt_res = 10\n",
    "alt_min = 90\n",
    "alt_max = 700\n",
    "aalt = np.arange(alt_min, alt_max, alt_res)"
   ]
  },
  {
   "cell_type": "markdown",
   "id": "3336311d",
   "metadata": {},
   "source": [
    "## 7. Find ionospheric parameters for F2, F1, E, and Es regions by\n",
    "## calling IRI_density_1day function:"
   ]
  },
  {
   "cell_type": "code",
   "execution_count": 11,
   "id": "1eab063f",
   "metadata": {},
   "outputs": [
    {
     "name": "stdout",
     "output_type": "stream",
     "text": [
      "PyIRI: IRI_density_1day:------------------------------------------\n",
      "Determining parameters and electron density for 1 day:            year=2020, month=4, day=1\n",
      "For UT =  [ 0.    0.25  0.5   0.75  1.    1.25  1.5   1.75  2.    2.25  2.5   2.75\n",
      "  3.    3.25  3.5   3.75  4.    4.25  4.5   4.75  5.    5.25  5.5   5.75\n",
      "  6.    6.25  6.5   6.75  7.    7.25  7.5   7.75  8.    8.25  8.5   8.75\n",
      "  9.    9.25  9.5   9.75 10.   10.25 10.5  10.75 11.   11.25 11.5  11.75\n",
      " 12.   12.25 12.5  12.75 13.   13.25 13.5  13.75 14.   14.25 14.5  14.75\n",
      " 15.   15.25 15.5  15.75 16.   16.25 16.5  16.75 17.   17.25 17.5  17.75\n",
      " 18.   18.25 18.5  18.75 19.   19.25 19.5  19.75 20.   20.25 20.5  20.75\n",
      " 21.   21.25 21.5  21.75 22.   22.25 22.5  22.75 23.   23.25 23.5  23.75]\n",
      "Longitude =  [10.]\n",
      "Latitude =  [20.]\n",
      "Provided F10.7=100\n",
      "For NmF2 determination CCIR  used.\n",
      "Model parameters are being determinaed for 2 levels of solaractivity at F10.7=69.3 and 135.2 SFU\n",
      "For NmF2 determination CCIR used.\n",
      "Model parameters are being determinaed for 2 levels of solaractivity at F10.7=69.3 and 135.2 SFU\n",
      "For NmF2 determination CCIR used.\n",
      "Mean monthly parameters are calculated\n",
      "-----------------------------------------------------------------\n"
     ]
    }
   ],
   "source": [
    "f2, f1, e_peak, es_peak, sun, mag, edp = ml.IRI_density_1day(year, month, day, ahr, alon, alat, aalt, f107, PyIRI.coeff_dir, ccir_or_ursi)"
   ]
  },
  {
   "cell_type": "markdown",
   "id": "1f79eabb",
   "metadata": {},
   "source": [
    "## f2 dictionary contains:\n",
    "\n",
    "## -  peak density 'Nm' in m-3\n",
    "\n",
    "## -  critical frequency 'fo' in MHz\n",
    "\n",
    "## -  the obliquity factor for a distance of 3,000 km 'M3000'\n",
    "\n",
    "## -  height of the peak 'hm' in km\n",
    "\n",
    "## -  thickness of the topside 'B_top' in km\n",
    "\n",
    "## -  thickness of the bottomside 'B_bot' in km.\n",
    "\n",
    "\n",
    "## f1 dictionary contains:\n",
    "\n",
    "## -  peak density 'Nm' in m-3\n",
    "\n",
    "## -  critical frequency 'fo' in MHz\n",
    "\n",
    "## -  probability occurrence of F1 reion 'P'\n",
    "\n",
    "## -  height of the peak 'hm' in km\n",
    "\n",
    "## -  thickness of the bottomside 'B_bot' in km.\n",
    "\n",
    "\n",
    "## e_peak dictionary contains:\n",
    "\n",
    "## -  peak density 'Nm' in m-3\n",
    "\n",
    "## -  critical frequency 'fo' in MHz\n",
    "\n",
    "## -  height of the peak 'hm' in km\n",
    "\n",
    "## -  thickness of the bottomside 'B_bot' in km.\n",
    "\n",
    "## -  thickness of the topside 'B_top' in km.\n",
    "\n",
    "\n",
    "## e_peak dictionary contains:\n",
    "\n",
    "## -  peak density 'Nm' in m-3\n",
    "\n",
    "## -  critical frequency 'fo' in MHz\n",
    "\n",
    "## -  height of the peak 'hm' in km\n",
    "\n",
    "## -  thickness of the bottomside 'B_bot' in km.\n",
    "\n",
    "## -  thickness of the topside 'B_top' in km.\n",
    "\n",
    "\n",
    "## sun dictionary contains:\n",
    "\n",
    "## -  longitude of subsolar point 'lon'\n",
    "\n",
    "## -  latitude of subsolar point 'lat'\n",
    "\n",
    "\n",
    "## mag dictionary contains:\n",
    "\n",
    "## -  magnetic field inclination in degrees 'inc'\n",
    "\n",
    "## -  modified dip angle in degrees 'modip'\n",
    "\n",
    "## -  magnetic dip latitude in degrees 'mag_dip_lat'\n",
    "\n",
    "\n",
    "## EDP array:\n",
    "\n",
    "## -  3-D electron density with shape  [N_T, N_V, N_G]"
   ]
  },
  {
   "cell_type": "markdown",
   "id": "649ae501",
   "metadata": {},
   "source": [
    "## 8. Plot results for F2 region at time stamp UT=10:"
   ]
  },
  {
   "cell_type": "code",
   "execution_count": 12,
   "id": "87e3bfa0",
   "metadata": {},
   "outputs": [
    {
     "data": {
      "image/png": "[encoded data removed]",
      "text/plain": [
       "<Figure size 288x504 with 4 Axes>"
      ]
     },
     "metadata": {
      "needs_background": "light"
     },
     "output_type": "display_data"
    }
   ],
   "source": [
    "plot_dir = '/Users/vmakarevich/Documents/Science_VF2/PyIRI_Test/'\n",
    "\n",
    "# Make sure alon and alat contains lon_plot and lat_plot\n",
    "lon_plot = 10\n",
    "lat_plot = 20\n",
    "plot.PyIRI_plot_1location_diurnal_par(f2, f1, e_peak, es_peak, alon, alat,\n",
    "lon_plot, lat_plot, ahr, plot_dir,\n",
    "plot_name='PyIRI_diurnal.png')"
   ]
  },
  {
   "cell_type": "markdown",
   "id": "459de97a",
   "metadata": {},
   "source": [
    "## 14. Plot electron density as a function of time."
   ]
  },
  {
   "cell_type": "code",
   "execution_count": 13,
   "id": "26cee708",
   "metadata": {},
   "outputs": [
    {
     "data": {
      "image/png": "[encoded data removed]",
      "text/plain": [
       "<Figure size 432x216 with 2 Axes>"
      ]
     },
     "metadata": {
      "needs_background": "light"
     },
     "output_type": "display_data"
    }
   ],
   "source": [
    "plot.PyIRI_plot_1location_diurnal_density(edp, alon, alat, lon_plot, lat_plot,\n",
    "aalt, ahr, plot_dir, plot_name='PyIRI_EDP_diurnal.png')\n"
   ]
  },
  {
   "cell_type": "code",
   "execution_count": null,
   "id": "1aa0e3ba",
   "metadata": {},
   "outputs": [],
   "source": []
  },
  {
   "cell_type": "code",
   "execution_count": null,
   "id": "ed8c2144",
   "metadata": {},
   "outputs": [],
   "source": []
  },
  {
   "cell_type": "code",
   "execution_count": null,
   "id": "77ea7c0e",
   "metadata": {},
   "outputs": [],
   "source": []
  }
 ],
 "metadata": {
  "kernelspec": {
   "display_name": "Python 3 (ipykernel)",
   "language": "python",
   "name": "python3"
  },
  "language_info": {
   "codemirror_mode": {
    "name": "ipython",
    "version": 3
   },
   "file_extension": ".py",
   "mimetype": "text/x-python",
   "name": "python",
   "nbconvert_exporter": "python",
   "pygments_lexer": "ipython3",
   "version": "3.9.7"
  }
 },
 "nbformat": 4,
 "nbformat_minor": 5
}
